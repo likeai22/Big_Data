{
 "cells": [
  {
   "cell_type": "markdown",
   "metadata": {
    "id": "jqh_NMwMjfhO"
   },
   "source": [
    "# Домашняя работа"
   ]
  },
  {
   "cell_type": "markdown",
   "source": [
    "Сделайте mapper и reducer, чтобы посчитать среднее и дисперсию оценок за фильм."
   ],
   "metadata": {
    "id": "dSCZYSMrTtEM"
   }
  },
  {
   "cell_type": "markdown",
   "source": [
    "Реализация через цикл (предпогаем, что мы не знаем сколько у нас фильмов):"
   ],
   "metadata": {
    "id": "g6AlGOz7aws5"
   }
  },
  {
   "metadata": {
    "ExecuteTime": {
     "end_time": "2024-07-08T17:40:35.347163Z",
     "start_time": "2024-07-08T17:40:35.342570Z"
    }
   },
   "cell_type": "code",
   "source": [
    "from pathlib import Path\n",
    "import json\n",
    "from functools import reduce\n",
    "from joblib import Parallel, delayed"
   ],
   "outputs": [],
   "execution_count": 25
  },
  {
   "cell_type": "code",
   "source": [
    "%%time\n",
    "n, mean, M2 = 0, 0.0, 0\n",
    "for path in Path(\"les/imdb-user-reviews\").glob(\"**/*\"):\n",
    "    if path.is_file() and path.suffix == \".json\":\n",
    "        with open(path, \"r\") as f:\n",
    "            info = json.load(f)\n",
    "        score = float(info[\"movieIMDbRating\"])\n",
    "        n += 1\n",
    "        delta = score - mean\n",
    "        mean += delta / n\n",
    "        M2 += delta * (score - mean)\n",
    "\n",
    "print(mean, (M2 / n) ** (1 / 2))"
   ],
   "metadata": {
    "colab": {
     "base_uri": "https://localhost:8080/"
    },
    "id": "yBhMEH50MCyf",
    "outputId": "c7b71698-ea06-4ef8-929e-95f18e9b3e7e",
    "ExecuteTime": {
     "end_time": "2024-07-08T17:40:35.400597Z",
     "start_time": "2024-07-08T17:40:35.385173Z"
    }
   },
   "outputs": [
    {
     "name": "stdout",
     "output_type": "stream",
     "text": [
      "8.03 1.0517128885774865\n",
      "CPU times: total: 15.6 ms\n",
      "Wall time: 9 ms\n"
     ]
    }
   ],
   "execution_count": 26
  },
  {
   "cell_type": "markdown",
   "source": [
    "На основе этого кода соберите mapper и reducer:"
   ],
   "metadata": {
    "id": "Ic09ccPLbMUR"
   }
  },
  {
   "metadata": {
    "ExecuteTime": {
     "end_time": "2024-07-08T17:48:32.104170Z",
     "start_time": "2024-07-08T17:48:32.097398Z"
    }
   },
   "cell_type": "code",
   "source": [
    "def mapper(path):\n",
    "    # Ваш код\n",
    "    with open(path, \"r\") as f:\n",
    "        info = json.load(f)\n",
    "    score = float(info[\"movieIMDbRating\"])\n",
    "    return 1, score, 0.0\n",
    "\n",
    "\n",
    "def reducer(score_data1, score_data2):\n",
    "    #  Ваш код\n",
    "    n1, mean1, M2_1 = score_data1\n",
    "    n2, mean2, M2_2 = score_data2\n",
    "\n",
    "    n = n1 + n2\n",
    "    if n == 0:\n",
    "        return 0, 0.0, 0.0\n",
    "\n",
    "    delta = mean2 - mean1\n",
    "    # delta = (mean2 * n2 - mean1 * n1) / n\n",
    "    mean = mean1 + delta * n2 / n\n",
    "    M2 = fsum([M2_1, M2_2, delta ** 2 * n1 * n2 / n])\n",
    "    return n, mean, M2"
   ],
   "outputs": [],
   "execution_count": 43
  },
  {
   "metadata": {
    "ExecuteTime": {
     "end_time": "2024-07-08T17:48:32.331385Z",
     "start_time": "2024-07-08T17:48:32.319355Z"
    }
   },
   "cell_type": "code",
   "source": [
    "%%time\n",
    "n, mean, M2 = reduce(reducer, map(mapper, Path(\"les/imdb-user-reviews\").rglob(\"*.json\")))\n",
    "print(mean, (M2 / n) ** (1 / 2))"
   ],
   "outputs": [
    {
     "name": "stdout",
     "output_type": "stream",
     "text": [
      "8.03 1.0517128885774865\n",
      "CPU times: total: 46.9 ms\n",
      "Wall time: 7 ms\n"
     ]
    }
   ],
   "execution_count": 44
  },
  {
   "metadata": {
    "ExecuteTime": {
     "end_time": "2024-07-08T17:40:35.455515Z",
     "start_time": "2024-07-08T17:40:35.452603Z"
    }
   },
   "cell_type": "code",
   "source": "",
   "outputs": [],
   "execution_count": 28
  }
 ],
 "metadata": {
  "colab": {
   "provenance": []
  },
  "kernelspec": {
   "display_name": "Python 3 (ipykernel)",
   "name": "python3",
   "language": "python"
  },
  "language_info": {
   "name": "python"
  }
 },
 "nbformat": 4,
 "nbformat_minor": 0
}

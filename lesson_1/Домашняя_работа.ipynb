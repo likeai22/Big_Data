{
 "cells": [
  {
   "cell_type": "markdown",
   "metadata": {
    "id": "jqh_NMwMjfhO"
   },
   "source": [
    "# Домашняя работа"
   ]
  },
  {
   "cell_type": "markdown",
   "source": [
    "Сделайте mapper и reducer, чтобы посчитать среднее и дисперсию оценок за фильм."
   ],
   "metadata": {
    "id": "dSCZYSMrTtEM"
   }
  },
  {
   "cell_type": "markdown",
   "source": [
    "Реализация через цикл (предпогаем, что мы не знаем сколько у нас фильмов):"
   ],
   "metadata": {
    "id": "g6AlGOz7aws5"
   }
  },
  {
   "metadata": {
    "ExecuteTime": {
     "end_time": "2024-07-08T16:51:56.532856Z",
     "start_time": "2024-07-08T16:51:56.290224Z"
    }
   },
   "cell_type": "code",
   "source": [
    "from pathlib import Path\n",
    "import json\n",
    "from functools import reduce\n",
    "from joblib import Parallel, delayed"
   ],
   "outputs": [],
   "execution_count": 1
  },
  {
   "cell_type": "code",
   "source": [
    "%%time\n",
    "n, mean, M2 = 0, 0.0, 0\n",
    "for path in Path('les/imdb-user-reviews').glob('**/*'):\n",
    "    if path.is_file() and path.suffix == '.json':\n",
    "        with open(path, 'r') as f:\n",
    "            info = json.load(f)\n",
    "        score = float(info['movieIMDbRating'])\n",
    "        n += 1\n",
    "        delta = score - mean\n",
    "        mean += delta / n\n",
    "        M2 += delta * (score - mean)\n",
    "\n",
    "print(mean, (M2 / n) ** (1/2))"
   ],
   "metadata": {
    "colab": {
     "base_uri": "https://localhost:8080/"
    },
    "id": "yBhMEH50MCyf",
    "outputId": "c7b71698-ea06-4ef8-929e-95f18e9b3e7e",
    "ExecuteTime": {
     "end_time": "2024-07-08T16:54:35.707718Z",
     "start_time": "2024-07-08T16:54:35.692302Z"
    }
   },
   "outputs": [
    {
     "name": "stdout",
     "output_type": "stream",
     "text": [
      "8.03 1.0517128885774865\n",
      "CPU times: total: 15.6 ms\n",
      "Wall time: 9 ms\n"
     ]
    }
   ],
   "execution_count": 6
  },
  {
   "cell_type": "markdown",
   "source": [
    "На основе этого кода соберите mapper и reducer:"
   ],
   "metadata": {
    "id": "Ic09ccPLbMUR"
   }
  }
 ],
 "metadata": {
  "colab": {
   "provenance": []
  },
  "kernelspec": {
   "display_name": "Python 3 (ipykernel)",
   "name": "python3",
   "language": "python"
  },
  "language_info": {
   "name": "python"
  }
 },
 "nbformat": 4,
 "nbformat_minor": 0
}
